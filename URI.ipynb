{
  "nbformat": 4,
  "nbformat_minor": 0,
  "metadata": {
    "colab": {
      "name": "URI.ipynb",
      "provenance": [],
      "collapsed_sections": [],
      "authorship_tag": "ABX9TyNHZeEK96T9Wqu3ReOdJDOr",
      "include_colab_link": true
    },
    "kernelspec": {
      "display_name": "Python 3",
      "name": "python3"
    },
    "language_info": {
      "name": "python"
    }
  },
  "cells": [
    {
      "cell_type": "markdown",
      "metadata": {
        "id": "view-in-github",
        "colab_type": "text"
      },
      "source": [
        "<a href=\"https://colab.research.google.com/github/LaisST/Fatec_ALP/blob/main/URI.ipynb\" target=\"_parent\"><img src=\"https://colab.research.google.com/assets/colab-badge.svg\" alt=\"Open In Colab\"/></a>"
      ]
    },
    {
      "cell_type": "code",
      "metadata": {
        "id": "_e1dORvcetGI"
      },
      "source": [
        "#1016\n",
        "dkm = int(input(''))\n",
        "x = (60*dkm)/30\n",
        "print('{:.0f} minutos'.format(x))"
      ],
      "execution_count": null,
      "outputs": []
    },
    {
      "cell_type": "code",
      "metadata": {
        "id": "AbeTKpAIfYUm"
      },
      "source": [
        "#1017\n",
        "T = int(input(''))\n",
        "V = int(input(''))\n",
        "D = V*T\n",
        "L = D/12\n",
        "print('{:.3f}'.format(L))"
      ],
      "execution_count": null,
      "outputs": []
    },
    {
      "cell_type": "code",
      "metadata": {
        "id": "YXie1N9pfkfT"
      },
      "source": [
        "#1020\n",
        "ID = int(input(''))\n",
        "A = ID//365\n",
        "M = (ID%365)//30\n",
        "D = (ID%365)%30\n",
        "print('{} ano(s)'.format(A))\n",
        "print('{} mes(es)'.format(M))\n",
        "print('{} dia(s)'.format(D))"
      ],
      "execution_count": null,
      "outputs": []
    },
    {
      "cell_type": "code",
      "metadata": {
        "id": "LmJmgFwYfs1K"
      },
      "source": [
        "#1002 \"Area do circulo\"\n",
        "R = float(input(''))\n",
        "A = 3.14159*(R**2)\n",
        "print('A={:.4f}'.format(A))"
      ],
      "execution_count": null,
      "outputs": []
    },
    {
      "cell_type": "code",
      "metadata": {
        "id": "d5i7vuQ-gCl8"
      },
      "source": [
        "#1005 - Média 1\n",
        "A = float(input(''))\n",
        "B = float(input(''))\n",
        "m = ((A*3.5+B*7.5)/11)\n",
        "print('MEDIA = {:.5f}'.format(m))"
      ],
      "execution_count": null,
      "outputs": []
    },
    {
      "cell_type": "code",
      "metadata": {
        "id": "V6DxhguVhGGy"
      },
      "source": [
        "#1006 - Média 2\n",
        "A = float(input(''))\n",
        "B = float(input(''))\n",
        "C = float(input(''))\n",
        "m = ((A*2+B*3+C*5)/10)\n",
        "print('MEDIA = {:.1f}'.format(m))"
      ],
      "execution_count": null,
      "outputs": []
    },
    {
      "cell_type": "code",
      "metadata": {
        "id": "gM-W-TzAhXWi"
      },
      "source": [
        "#1009 - Salario com bonus\n",
        "N = str(input(''))\n",
        "S = float(input(''))\n",
        "VV = float(input(''))\n",
        "C = (VV * 15) / 100\n",
        "SF = S + C\n",
        "print('TOTAL = R$ {:.2F}'.format(SF))"
      ],
      "execution_count": null,
      "outputs": []
    },
    {
      "cell_type": "code",
      "metadata": {
        "id": "tGnaZQ_ih9op"
      },
      "source": [
        "#1008 - Salario\n",
        "numfunc = int(input())\n",
        "hrtrab = int(input())\n",
        "valorhr = float(input())\n",
        "salario = float(hrtrab * valorhr)\n",
        "print(\"NUMBER = %d\" %numfunc)\n",
        "print(\"SALARY = U$ %0.2f\" %salario)"
      ],
      "execution_count": null,
      "outputs": []
    },
    {
      "cell_type": "code",
      "metadata": {
        "id": "Y67EkDLpiFTU"
      },
      "source": [
        "#2021 - Notas e moedas\n",
        "Valor = float(input(''))\n",
        "nota100 = Valor // 100\n",
        "resto = Valor % 100\n",
        "nota50 = resto // 50\n",
        "resto = resto % 50\n",
        "nota20 = resto // 20\n",
        "resto = resto % 20\n",
        "nota10 = resto // 10\n",
        "resto = resto % 10\n",
        "nota5 = resto // 5\n",
        "resto = resto % 5\n",
        "nota2 = resto // 2\n",
        "resto = resto % 2\n",
        "moeda1 = resto // 1\n",
        "resto = resto % 1\n",
        "resto = resto * 100\n",
        "moeda50 = resto // 50\n",
        "resto = resto % 50\n",
        "moeda25 = resto // 25\n",
        "resto = resto % 25\n",
        "moeda10 = resto // 10\n",
        "resto = resto % 10\n",
        "moeda5 = resto // 5\n",
        "resto = resto % 5\n",
        "moeda01 = resto // 1\n",
        "print('NOTAS:')\n",
        "print('{:.0f} nota(s) de R$ 100.00'.format(nota100))\n",
        "print('{:.0f} nota(s) de R$ 50.00'.format(nota50))\n",
        "print('{:.0f} nota(s) de R$ 20.00'.format(nota20))\n",
        "print('{:.0f} nota(s) de R$ 10.00'.format(nota10))\n",
        "print('{:.0f} nota(s) de R$ 5.00'.format(nota5))\n",
        "print('{:.0f} nota(s) de R$ 2.00'.format(nota2))\n",
        "print('MOEDAS:')\n",
        "print('{:.0f} moeda(s) de R$ 1.00'.format(moeda1))\n",
        "print('{:.0f} moeda(s) de R$ 0.50'.format(moeda50))\n",
        "print('{:.0f} moeda(s) de R$ 0.25'.format(moeda25))\n",
        "print('{:.0f} moeda(s) de R$ 0.10'.format(moeda10))\n",
        "print('{:.0f} moeda(s) de R$ 0.05'.format(moeda5))\n",
        "print('{:.0f} moeda(s) de R$ 0.01'.format(moeda01)) "
      ],
      "execution_count": null,
      "outputs": []
    },
    {
      "cell_type": "code",
      "metadata": {
        "id": "NyziD62DiOta"
      },
      "source": [
        "#1011 - Esfera\n",
        "Raio = float(input(''))\n",
        "Volume = 4 * (3.14159 * (Raio**3))/3\n",
        "print('VOLUME = {:.3f}'.format(Volume))"
      ],
      "execution_count": null,
      "outputs": []
    },
    {
      "cell_type": "code",
      "metadata": {
        "id": "nGOL6eQWj9WJ"
      },
      "source": [
        "#1012 - Area\n",
        "A, B, C = (input().split(\" \"))\n",
        "A = float(A)\n",
        "B = float(B)\n",
        "C = float(C)\n",
        "Tri = (A * C) / 2\n",
        "Cir = 3.14159 * (C ** 2)\n",
        "Tra = ((A + B) * C) / 2\n",
        "Qua = B*B\n",
        "Ret = A*B\n",
        "print('TRIANGULO: {:.3f}'.format(Tri))\n",
        "print('CIRCULO: {:.3f}'.format(Cir))\n",
        "print('TRAPEZIO: {:.3f}'.format(Tra))\n",
        "print('QUADRADO: {:.3f}'.format(Qua))\n",
        "print('RETANGULO: {:.3f}'.format(Ret))\n"
      ],
      "execution_count": null,
      "outputs": []
    },
    {
      "cell_type": "code",
      "metadata": {
        "id": "m73wxw_0kbCK"
      },
      "source": [
        "#1014 - Calcule o consumo médio de um carro levando em consideração a distância total percorrida (em Km) e o total de combustível gasto (em litros).\n",
        "X = int(input(''))\n",
        "Y = float(input(''))\n",
        "Tot = X/Y\n",
        "print('{:.3f} km/l'.format(Tot))"
      ],
      "execution_count": null,
      "outputs": []
    },
    {
      "cell_type": "code",
      "metadata": {
        "id": "75uPZiJSkhLS"
      },
      "source": [
        "#1015 - Leia os quatro valores correspondentes aos eixos xey de dois pontos do plano, p1 (x1, y1) e p2 (x2, y2) e calcule a distância entre eles, mostrando quatro casas decimais após a vírgula\n",
        "x1, y1 = (input().split(\" \"))\n",
        "x2, y2 = (input().split(\" \"))\n",
        "x1 = float(x1)\n",
        "y1 = float(y1)\n",
        "x2 = float(x2)\n",
        "y2 = float(y2)\n",
        "resp1 = (x2 - x1)**2\n",
        "resp2 = (y2 - y1)**2\n",
        "resp3 = resp1 + resp2\n",
        "resp4 = resp3 ** (1/2)\n",
        "print('{:.4f}'.format(resp4))"
      ],
      "execution_count": null,
      "outputs": []
    },
    {
      "cell_type": "code",
      "metadata": {
        "id": "NuBxHJN4mOhZ"
      },
      "source": [
        "#1019 - Leia um valor inteiro, que é a duração em segundos de um determinado evento em uma fábrica, e informe-o expresso em horas: minutos: segundos.\n",
        "N = int(input(''))\n",
        "H = N // 3600\n",
        "M = (N%3600)//60\n",
        "S = (N%3600)%60\n",
        "print('{}:{}:{}'.format(H, M, S))"
      ],
      "execution_count": null,
      "outputs": []
    },
    {
      "cell_type": "code",
      "metadata": {
        "id": "WC7m_eBqm99E"
      },
      "source": [
        "#1036 - Bhaskara's Formula\n",
        "A, B, C = (input().split(\" \"))\n",
        "A = float(A)\n",
        "B = float(B)\n",
        "C = float(C)\n",
        "if A != 0:\n",
        "  d = B*B - 4*A*C\n",
        "  if d < 0:\n",
        "    print('Impossivel calcular')\n",
        "  else: \n",
        "    R1 = (-B + d**0.5)/(2*A)\n",
        "    print(\"R1 = %.5f\"%R1)\n",
        "    if d > 0:\n",
        "      R2 = (-B - d**0.5)/(2*A)\n",
        "      print(\"R2 = %.5f\"%R2)\n",
        "    else:\n",
        "      print('Impossivel calcular')\n",
        "else:\n",
        "  print('Impossivel calcular')"
      ],
      "execution_count": null,
      "outputs": []
    },
    {
      "cell_type": "code",
      "metadata": {
        "id": "GuuIxn-9nyOd"
      },
      "source": [
        "#1038 - Snack\n",
        "X, Y = input().split(' ')\n",
        "X = int(X)\n",
        "Y = int(Y)\n",
        "if X == 1:\n",
        "  print('Total: R$ {:.2f}'.format(Y*4.00))\n",
        "else:\n",
        "  if X == 2:\n",
        "    print('Total: R$ {:.2f}'.format(Y*4.50))\n",
        "  else:\n",
        "    if X == 3:\n",
        "      print('Total: R$ {:.2f}'.format(Y*5.00))\n",
        "    else:\n",
        "      if X == 4:\n",
        "        print('Total: R$ {:.2f}'.format(Y*2.00))\n",
        "      else:\n",
        "        print('Total: R$ {:.2f}'.format(Y*1.50))"
      ],
      "execution_count": null,
      "outputs": []
    },
    {
      "cell_type": "code",
      "metadata": {
        "id": "_iMNvt-npTq-"
      },
      "source": [
        "#1040 - Média 3\n",
        "n1, n2, n3, n4 = input().split(\" \")\n",
        "n1 = float(n1)\n",
        "n2 = float(n2)\n",
        "n3 = float(n3)\n",
        "n4 = float(n4)\n",
        "media = (n1*2 + n2*3 + n3*4 + n4*1)/10\n",
        "print(f\"Media: {media:.1f}\")\n",
        "if media >= 7.0:\n",
        "  print(\"Aluno aprovado.\")\n",
        "else:\n",
        "  if media < 5:\n",
        "    print(\"Aluno reprovado.\")\n",
        "  else:\n",
        "    print(\"Aluno em exame.\")\n",
        "    exame = float(input(\"\"))\n",
        "    media_final = (media+exame)/2\n",
        "    print(f\"Nota do exame: {exame:.1f}\")\n",
        "    if media_final >= 5:\n",
        "      print(\"Aluno aprovado.\")\n",
        "    else: \n",
        "      print(\"Aluno reprovado.\")\n",
        "    print(f\"Media final: {media_final:.1f}\")\n",
        "\n"
      ],
      "execution_count": null,
      "outputs": []
    },
    {
      "cell_type": "code",
      "metadata": {
        "id": "0Q_oUM4t2HQW"
      },
      "source": [
        "#1041 Coordenadas de um ponto\n",
        "x, y = input().split(\" \")\n",
        "x = float(x)\n",
        "y = float(y)\n",
        "#Resolver depois"
      ],
      "execution_count": null,
      "outputs": []
    },
    {
      "cell_type": "code",
      "metadata": {
        "id": "DnBvNuzz9QAk"
      },
      "source": [
        "#1042 Classificação Simples\n",
        "a, b, c = input().split(\" \")\n",
        "a = int(a)\n",
        "b = int(b)\n",
        "c = int(c)\n",
        "if a > b and a > c:\n",
        "    d = a\n",
        "    if b > c:\n",
        "        e = b\n",
        "        f = c\n",
        "    else:\n",
        "        e = c\n",
        "        f = b\n",
        "if b > a and b > c:\n",
        "    d = b\n",
        "    if a > c:\n",
        "        e = a\n",
        "        f = c\n",
        "    else:\n",
        "        e = c\n",
        "        f = a\n",
        "if c > a and c > b:\n",
        "    d = c\n",
        "    if a > b:\n",
        "        e = a\n",
        "        f = b\n",
        "    else:\n",
        "        f = a\n",
        "        e = b\n",
        "print(f)\n",
        "print(e)\n",
        "print(d)\n",
        "print()\n",
        "print(a)\n",
        "print(b)\n",
        "print(c)"
      ],
      "execution_count": null,
      "outputs": []
    },
    {
      "cell_type": "code",
      "metadata": {
        "id": "e1mtRSSrI9Qc"
      },
      "source": [
        "a, b, c = input().split(\" \")\n",
        "a = float(a)\n",
        "b = float(b)\n",
        "c = float(c)\n",
        "if abs(b - c) < a < (b + c) and (a - c) < b < (a + c) and (a - b) < c < (a + b):\n",
        "  perimetro = a + b + c\n",
        "  print(f\"Perimetro = {perimetro:.1f}\")\n",
        "else:\n",
        "  area = ((a+b)*c)/2\n",
        "  print(f\"Area = {area:.1f}\")\n"
      ],
      "execution_count": null,
      "outputs": []
    },
    {
      "cell_type": "code",
      "metadata": {
        "colab": {
          "base_uri": "https://localhost:8080/"
        },
        "id": "DuROacs5PbD_",
        "outputId": "2b0e3dc2-f17d-44e9-87fe-411ebaaa4743"
      },
      "source": [
        "#1044 - Multiplos\n",
        "A, B = input().split(\" \")\n",
        "A = int(A)\n",
        "B = int(B)\n",
        "if A%B == 0 or B%A == 0:\n",
        "  print(\"Sao Multiplos\")\n",
        "else:\n",
        "  print(\"Nao sao Multiplos\")"
      ],
      "execution_count": null,
      "outputs": [
        {
          "output_type": "stream",
          "text": [
            "6 25\n",
            "Nao sao Multiplos\n"
          ],
          "name": "stdout"
        }
      ]
    },
    {
      "cell_type": "code",
      "metadata": {
        "colab": {
          "base_uri": "https://localhost:8080/"
        },
        "id": "YwQL0q4NVP3-",
        "outputId": "ec974576-263b-462e-8413-64ae7185ceb0"
      },
      "source": [
        "#1046 - Tempo de jogo\n",
        "I, F = input().split(\" \")\n",
        "I = int(I)\n",
        "F = int(F)\n",
        "if I >= F:\n",
        "  D = (F + 24) - I\n",
        "else:\n",
        "  D = F - I\n",
        "print(f\"O JOGO DUROU {D} HORA(S)\")"
      ],
      "execution_count": null,
      "outputs": [
        {
          "output_type": "stream",
          "text": [
            "0 0\n",
            "O JOGO DUROU 24 HORA(S)\n"
          ],
          "name": "stdout"
        }
      ]
    },
    {
      "cell_type": "code",
      "metadata": {
        "id": "_dsFOXq6ctuX"
      },
      "source": [
        "#1048 - Aumento de salário\n",
        "salario = float(input(\"\"))\n",
        "if 0 <= salario <= 400.00:\n",
        "  aumento = (salario * 15)/100\n",
        "  novo_salario = salario + aumento\n",
        "  print(f\"Novo salario: {novo_salario:.2f}\")\n",
        "  print(f\"Reajuste ganho: {aumento:.2f}\")\n",
        "  print(\"Em percentual: 15 %\")\n",
        "elif 400.01 <= salario <= 800.00:  \n",
        "  aumento = (salario * 12)/100\n",
        "  novo_salario = salario + aumento\n",
        "  print(f\"Novo salario: {novo_salario:.2f}\")\n",
        "  print(f\"Reajuste ganho: {aumento:.2f}\")\n",
        "  print(\"Em percentual: 12 %\") \n",
        "elif 800.01 <= salario <= 1200.00:\n",
        "  aumento = (salario * 10)/100\n",
        "  novo_salario = salario + aumento\n",
        "  print(f\"Novo salario: {novo_salario:.2f}\")\n",
        "  print(f\"Reajuste ganho: {aumento:.2f}\")\n",
        "  print(\"Em percentual: 10 %\")\n",
        "elif 1200.01 <= salario <= 2000.00:\n",
        "  aumento = (salario * 7)/100\n",
        "  novo_salario = salario + aumento\n",
        "  print(f\"Novo salario: {novo_salario:.2f}\")\n",
        "  print(f\"Reajuste ganho: {aumento:.2f}\")\n",
        "  print(\"Em percentual: 7 %\") \n",
        "else:\n",
        "  aumento = (salario * 4)/100\n",
        "  novo_salario = salario + aumento\n",
        "  print(f\"Novo salario: {novo_salario:.2f}\")\n",
        "  print(f\"Reajuste ganho: {aumento:.2f}\")\n",
        "  print(\"Em percentual: 4 %\") "
      ],
      "execution_count": null,
      "outputs": []
    },
    {
      "cell_type": "code",
      "metadata": {
        "id": "A3wG9snLo62h"
      },
      "source": [
        "#1049 - Animal\n",
        "a = (input(\"\"))\n",
        "b = (input(\"\"))\n",
        "c = (input(\"\"))\n",
        "if a == \"vertebrado\":\n",
        "  if b == \"ave\":\n",
        "    if c == \"carnivoro\":\n",
        "      print(\"aguia\")\n",
        "    elif c == \"onivoro\":\n",
        "      print(\"pomba\")\n",
        "  elif b == \"mamifero\":\n",
        "    if c == \"onivoro\":\n",
        "      print(\"homem\")\n",
        "    elif c == \"herbivoro\":\n",
        "      print(\"vaca\")\n",
        "elif a == \"invertebrado\":\n",
        "  if b == \"inseto\":\n",
        "    if c == \"hematofago\":\n",
        "      print(\"pulga\")\n",
        "    elif c == \"herbivoro\":\n",
        "      print(\"lagarta\")\n",
        "  elif b == \"anelideo\":\n",
        "    if c == \"hematofago\":\n",
        "      print(\"sanguessuga\")\n",
        "    elif c == \"onivoro\":\n",
        "      print(\"minhoca\")"
      ],
      "execution_count": null,
      "outputs": []
    },
    {
      "cell_type": "code",
      "metadata": {
        "id": "Z2NDsWDB90lc"
      },
      "source": [
        "#1050 - DDD\n",
        "ddd = int(input(\"\"))\n",
        "if ddd == 61:\n",
        "  print(\"Brasilia\")\n",
        "elif ddd == 71:\n",
        "  print(\"Salvador\")\n",
        "elif ddd == 11:\n",
        "  print(\"Sao Paulo\")\n",
        "elif ddd == 21:\n",
        "  print(\"Rio de Janeiro\")\n",
        "elif ddd == 32:\n",
        "  print(\"Juiz de Fora\")\n",
        "elif ddd == 19:\n",
        "  print(\"Campinas\")\n",
        "elif ddd == 27:\n",
        "  print(\"Vitoria\")\n",
        "elif ddd == 31:\n",
        "  print(\"Belo Horizonte\")\n",
        "else:\n",
        "  print(\"DDD nao cadastrado\")"
      ],
      "execution_count": null,
      "outputs": []
    },
    {
      "cell_type": "code",
      "metadata": {
        "id": "ozhjGxRWJuOn"
      },
      "source": [
        "#1052 - month\n",
        "mes = int(input(\"\"))\n",
        "if mes == 1:\n",
        "  print(\"January\")\n",
        "elif mes == 2:\n",
        "  print(\"February\")\n",
        "elif mes == 3:\n",
        "  print(\"March\")\n",
        "elif mes == 4:\n",
        "  print(\"April\")\n",
        "elif mes == 5:\n",
        "  print(\"May\")\n",
        "elif mes == 6:\n",
        "  print(\"June\")\n",
        "elif mes == 7:\n",
        "  print(\"July\")\n",
        "elif mes == 8:\n",
        "  print(\"August\")\n",
        "elif mes == 9:\n",
        "  print(\"September\")\n",
        "elif mes == 10:\n",
        "  print(\"October\")\n",
        "elif mes == 11:\n",
        "  print(\"November\")\n",
        "elif mes == 12:\n",
        "  print(\"December\")"
      ],
      "execution_count": null,
      "outputs": []
    },
    {
      "cell_type": "code",
      "metadata": {
        "id": "r2G4DFg5OJdn"
      },
      "source": [
        "#1059 - Even number\n",
        "n = 2\n",
        "while n <= 100:\n",
        "    print(n)\n",
        "    n += 2\n",
        "\n"
      ],
      "execution_count": null,
      "outputs": []
    },
    {
      "cell_type": "code",
      "metadata": {
        "id": "53EVx40TQDcD"
      },
      "source": [
        "#1060 - Positive numbers\n",
        "quant = 0\n",
        "c = 1\n",
        "while c <= 6:\n",
        "  n = float(input(\"\"))\n",
        "  if n > 0:\n",
        "    quant = quant + 1\n",
        "  c +=1\n",
        "print(quant,\"valores positivos\")"
      ],
      "execution_count": null,
      "outputs": []
    },
    {
      "cell_type": "code",
      "metadata": {
        "id": "Nw0lmNvBRbds"
      },
      "source": [
        "#1064 - Positivos e média\n",
        "soma = 0\n",
        "quant = 0\n",
        "c = 1\n",
        "while c <= 6:\n",
        "  n = float(input(\"\"))\n",
        "  if n > 0:\n",
        "    soma = soma + n\n",
        "    quant = quant + 1\n",
        "  c +=1\n",
        "print(quant,\"valores positivos\")\n",
        "print(\"{:.1f}\".format(soma/quant))\n"
      ],
      "execution_count": null,
      "outputs": []
    },
    {
      "cell_type": "code",
      "metadata": {
        "id": "kQF4OSwoS8ST"
      },
      "source": [
        "#1065 - Even between five numbers\n",
        "c = 1\n",
        "quant = 0\n",
        "while c <= 5:\n",
        "  n = float(input(\"\"))\n",
        "  c = c + 1\n",
        "  if n%2==0:\n",
        "    quant += 1\n",
        "print(quant,\"valores pares\")\n"
      ],
      "execution_count": null,
      "outputs": []
    },
    {
      "cell_type": "code",
      "metadata": {
        "id": "hVlyh3WfUklx"
      },
      "source": [
        "#1066 - Even, odd, positive, negative\n",
        "c = 1\n",
        "par = 0\n",
        "impar = 0\n",
        "positivo = 0\n",
        "negativo = 0\n",
        "while c <= 5:\n",
        "  n = int(input(\"\"))\n",
        "  c +=1\n",
        "  if n % 2 == 0:\n",
        "    par += 1\n",
        "  else: \n",
        "    impar += 1\n",
        "  if n > 0:\n",
        "    positivo += 1\n",
        "  elif n < 0:\n",
        "    negativo += 1\n",
        "print(par,\"valor(es) par(es)\")\n",
        "print(impar,\"valor(es) impar(es)\")\n",
        "print(positivo,\"valor(es) positivo(s)\")\n",
        "print(negativo,\"valor(es) negativo(s)\")\n"
      ],
      "execution_count": null,
      "outputs": []
    },
    {
      "cell_type": "code",
      "metadata": {
        "id": "YTHhni8VX41i"
      },
      "source": [
        "x = int(input(\"\"))\n",
        "c = 1\n",
        "while c <= x:\n",
        "  print(c)\n",
        "  c += 2\n",
        "  \n"
      ],
      "execution_count": null,
      "outputs": []
    },
    {
      "cell_type": "code",
      "metadata": {
        "id": "F-UcRyh_YhXK"
      },
      "source": [
        "x = int(input(\"\"))\n",
        "c = 1\n",
        "if x % 2 == 0:\n",
        "  n = x + 1\n",
        "  while c <= 6:\n",
        "    print(n)\n",
        "    n += 2\n",
        "    c += 1\n",
        "else:\n",
        "  while c <= 6:\n",
        "    print(x)\n",
        "    x += 2\n",
        "    c += 1\n",
        "\n",
        "      "
      ],
      "execution_count": null,
      "outputs": []
    },
    {
      "cell_type": "code",
      "metadata": {
        "id": "ps5dtzxmaT5v"
      },
      "source": [
        "n = int(input(\"\"))\n",
        "c = 1\n",
        "In = 0\n",
        "Out = 0\n",
        "while c <= n:\n",
        "  x = int(input(\"\"))\n",
        "  c += 1\n",
        "  if 10 <= x <= 20:\n",
        "    In += 1\n",
        "  else:\n",
        "    Out += 1\n",
        "print(In,\"in\")\n",
        "print(Out,\"out\")\n",
        "    "
      ],
      "execution_count": null,
      "outputs": []
    },
    {
      "cell_type": "code",
      "metadata": {
        "id": "xrbmhUz7dH7X"
      },
      "source": [
        "n = int(input(\"\"))\n",
        "c = 2\n",
        "while c <= n:\n",
        "  print(\"{}^2 = {}\".format(c,(c*c)))\n",
        "  c += 2"
      ],
      "execution_count": null,
      "outputs": []
    },
    {
      "cell_type": "code",
      "metadata": {
        "id": "YMQ80-p3SNvN"
      },
      "source": [
        "n = int(input(\"\"))\n",
        "c = 1\n",
        "while c <= n:\n",
        "  x = int(input(\"\"))\n",
        "  c += 1\n",
        "  if x == 0:\n",
        "    print(\"NULL\")\n",
        "  elif x % 2 == 0 and x > 0:\n",
        "    print(\"EVEN POSITIVE\")\n",
        "  elif x % 2 != 0 and x > 0:\n",
        "    print(\"ODD POSITIVE\")\n",
        "  elif x % 2 == 0 and x < 0:\n",
        "    print(\"EVEN NEGATIVE\")\n",
        "  elif x % 2 != 0 and x < 0:\n",
        "    print(\"ODD NEGATIVE\")\n"
      ],
      "execution_count": null,
      "outputs": []
    },
    {
      "cell_type": "code",
      "metadata": {
        "id": "_620dNlqVWI8"
      },
      "source": [
        "#1075\n",
        "n = int(input(\"\"))\n",
        "x = 0\n",
        "while x <= 10000:\n",
        "  if x % n == 2:\n",
        "    print(x)\n",
        "  x += 1\n",
        "  "
      ],
      "execution_count": null,
      "outputs": []
    },
    {
      "cell_type": "code",
      "metadata": {
        "id": "Krc3u4saYfbH"
      },
      "source": [
        "n = int(input(\"\"))\n",
        "c = 1\n",
        "while c <= 10:\n",
        "  print(\"{} x {} = {}\".format(c, n, (c*n)))\n",
        "  c += 1"
      ],
      "execution_count": null,
      "outputs": []
    },
    {
      "cell_type": "code",
      "metadata": {
        "id": "z6Wen9cSZ3z3"
      },
      "source": [
        "n = int(input(\"\"))\n",
        "x = 1\n",
        "while x <= n:\n",
        "  a, b, c = input().split(\" \")\n",
        "  a = float(a)\n",
        "  b = float(b)\n",
        "  c = float(c)\n",
        "  x += 1\n",
        "  media = (a*2 + b*3 + c*5)/10\n",
        "  print(\"{:.1f}\".format(media))"
      ],
      "execution_count": null,
      "outputs": []
    },
    {
      "cell_type": "code",
      "metadata": {
        "id": "cgvN9BIhpTBK"
      },
      "source": [
        "c = 1\n",
        "lista = []\n",
        "while c <= 100:\n",
        "  x = int(input(\"\"))\n",
        "  lista.append(x)\n",
        "  c += 1\n",
        "menor = min(lista)\n",
        "maior = max(lista)\n",
        "print(maior)\n",
        "print(menor)\n",
        "\n"
      ],
      "execution_count": null,
      "outputs": []
    }
  ]
}