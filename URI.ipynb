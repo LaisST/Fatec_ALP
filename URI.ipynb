{
  "nbformat": 4,
  "nbformat_minor": 0,
  "metadata": {
    "colab": {
      "name": "URI.ipynb",
      "provenance": [],
      "collapsed_sections": [],
      "authorship_tag": "ABX9TyNJ4U275erwLwFSdWPBfr5f",
      "include_colab_link": true
    },
    "kernelspec": {
      "name": "python3",
      "display_name": "Python 3"
    },
    "language_info": {
      "name": "python"
    }
  },
  "cells": [
    {
      "cell_type": "markdown",
      "metadata": {
        "id": "view-in-github",
        "colab_type": "text"
      },
      "source": [
        "<a href=\"https://colab.research.google.com/github/LaisST/Fatec_ALP/blob/main/URI.ipynb\" target=\"_parent\"><img src=\"https://colab.research.google.com/assets/colab-badge.svg\" alt=\"Open In Colab\"/></a>"
      ]
    },
    {
      "cell_type": "code",
      "metadata": {
        "id": "_e1dORvcetGI"
      },
      "source": [
        "#1016\n",
        "dkm = int(input(''))\n",
        "x = (60*dkm)/30\n",
        "print('{:.0f} minutos'.format(x))"
      ],
      "execution_count": null,
      "outputs": []
    },
    {
      "cell_type": "code",
      "metadata": {
        "id": "AbeTKpAIfYUm"
      },
      "source": [
        "#1017\n",
        "T = int(input(''))\n",
        "V = int(input(''))\n",
        "D = V*T\n",
        "L = D/12\n",
        "print('{:.3f}'.format(L))"
      ],
      "execution_count": null,
      "outputs": []
    },
    {
      "cell_type": "code",
      "metadata": {
        "id": "YXie1N9pfkfT"
      },
      "source": [
        "#1020\n",
        "ID = int(input(''))\n",
        "A = ID//365\n",
        "M = (ID%365)//30\n",
        "D = (ID%365)%30\n",
        "print('{} ano(s)'.format(A))\n",
        "print('{} mes(es)'.format(M))\n",
        "print('{} dia(s)'.format(D))"
      ],
      "execution_count": null,
      "outputs": []
    },
    {
      "cell_type": "code",
      "metadata": {
        "id": "LmJmgFwYfs1K"
      },
      "source": [
        "#1002 \"Area do circulo\"\n",
        "R = float(input(''))\n",
        "A = 3.14159*(R**2)\n",
        "print('A={:.4f}'.format(A))"
      ],
      "execution_count": null,
      "outputs": []
    },
    {
      "cell_type": "code",
      "metadata": {
        "id": "d5i7vuQ-gCl8"
      },
      "source": [
        "#1005 - Média 1\n",
        "A = float(input(''))\n",
        "B = float(input(''))\n",
        "m = ((A*3.5+B*7.5)/11)\n",
        "print('MEDIA = {:.5f}'.format(m))"
      ],
      "execution_count": null,
      "outputs": []
    },
    {
      "cell_type": "code",
      "metadata": {
        "id": "V6DxhguVhGGy"
      },
      "source": [
        "#1006 - Média 2\n",
        "A = float(input(''))\n",
        "B = float(input(''))\n",
        "C = float(input(''))\n",
        "m = ((A*2+B*3+C*5)/10)\n",
        "print('MEDIA = {:.1f}'.format(m))"
      ],
      "execution_count": null,
      "outputs": []
    },
    {
      "cell_type": "code",
      "metadata": {
        "id": "gM-W-TzAhXWi"
      },
      "source": [
        "#1009 - Salario com bonus\n",
        "N = str(input(''))\n",
        "S = float(input(''))\n",
        "VV = float(input(''))\n",
        "C = (VV * 15) / 100\n",
        "SF = S + C\n",
        "print('TOTAL = R$ {:.2F}'.format(SF))"
      ],
      "execution_count": null,
      "outputs": []
    },
    {
      "cell_type": "code",
      "metadata": {
        "id": "tGnaZQ_ih9op"
      },
      "source": [
        "#1008 - Salario\n",
        "numfunc = int(input())\n",
        "hrtrab = int(input())\n",
        "valorhr = float(input())\n",
        "salario = float(hrtrab * valorhr)\n",
        "print(\"NUMBER = %d\" %numfunc)\n",
        "print(\"SALARY = U$ %0.2f\" %salario)"
      ],
      "execution_count": null,
      "outputs": []
    },
    {
      "cell_type": "code",
      "metadata": {
        "id": "Y67EkDLpiFTU"
      },
      "source": [
        "#2021 - Notas e moedas\n",
        "Valor = float(input(''))\n",
        "nota100 = Valor // 100\n",
        "resto = Valor % 100\n",
        "nota50 = resto // 50\n",
        "resto = resto % 50\n",
        "nota20 = resto // 20\n",
        "resto = resto % 20\n",
        "nota10 = resto // 10\n",
        "resto = resto % 10\n",
        "nota5 = resto // 5\n",
        "resto = resto % 5\n",
        "nota2 = resto // 2\n",
        "resto = resto % 2\n",
        "moeda1 = resto // 1\n",
        "resto = resto % 1\n",
        "resto = resto * 100\n",
        "moeda50 = resto // 50\n",
        "resto = resto % 50\n",
        "moeda25 = resto // 25\n",
        "resto = resto % 25\n",
        "moeda10 = resto // 10\n",
        "resto = resto % 10\n",
        "moeda5 = resto // 5\n",
        "resto = resto % 5\n",
        "moeda01 = resto // 1\n",
        "print('NOTAS:')\n",
        "print('{:.0f} nota(s) de R$ 100.00'.format(nota100))\n",
        "print('{:.0f} nota(s) de R$ 50.00'.format(nota50))\n",
        "print('{:.0f} nota(s) de R$ 20.00'.format(nota20))\n",
        "print('{:.0f} nota(s) de R$ 10.00'.format(nota10))\n",
        "print('{:.0f} nota(s) de R$ 5.00'.format(nota5))\n",
        "print('{:.0f} nota(s) de R$ 2.00'.format(nota2))\n",
        "print('MOEDAS:')\n",
        "print('{:.0f} moeda(s) de R$ 1.00'.format(moeda1))\n",
        "print('{:.0f} moeda(s) de R$ 0.50'.format(moeda50))\n",
        "print('{:.0f} moeda(s) de R$ 0.25'.format(moeda25))\n",
        "print('{:.0f} moeda(s) de R$ 0.10'.format(moeda10))\n",
        "print('{:.0f} moeda(s) de R$ 0.05'.format(moeda5))\n",
        "print('{:.0f} moeda(s) de R$ 0.01'.format(moeda01)) "
      ],
      "execution_count": null,
      "outputs": []
    },
    {
      "cell_type": "code",
      "metadata": {
        "id": "NyziD62DiOta"
      },
      "source": [
        "#1011 - Esfera\n",
        "Raio = float(input(''))\n",
        "Volume = 4 * (3.14159 * (Raio**3))/3\n",
        "print('VOLUME = {:.3f}'.format(Volume))"
      ],
      "execution_count": null,
      "outputs": []
    },
    {
      "cell_type": "code",
      "metadata": {
        "id": "nGOL6eQWj9WJ"
      },
      "source": [
        "#1012 - Area\n",
        "A, B, C = (input().split(\" \"))\n",
        "A = float(A)\n",
        "B = float(B)\n",
        "C = float(C)\n",
        "Tri = (A * C) / 2\n",
        "Cir = 3.14159 * (C ** 2)\n",
        "Tra = ((A + B) * C) / 2\n",
        "Qua = B*B\n",
        "Ret = A*B\n",
        "print('TRIANGULO: {:.3f}'.format(Tri))\n",
        "print('CIRCULO: {:.3f}'.format(Cir))\n",
        "print('TRAPEZIO: {:.3f}'.format(Tra))\n",
        "print('QUADRADO: {:.3f}'.format(Qua))\n",
        "print('RETANGULO: {:.3f}'.format(Ret))\n"
      ],
      "execution_count": null,
      "outputs": []
    },
    {
      "cell_type": "code",
      "metadata": {
        "id": "m73wxw_0kbCK"
      },
      "source": [
        "#1014 - Calcule o consumo médio de um carro levando em consideração a distância total percorrida (em Km) e o total de combustível gasto (em litros).\n",
        "X = int(input(''))\n",
        "Y = float(input(''))\n",
        "Tot = X/Y\n",
        "print('{:.3f} km/l'.format(Tot))"
      ],
      "execution_count": null,
      "outputs": []
    },
    {
      "cell_type": "code",
      "metadata": {
        "id": "75uPZiJSkhLS"
      },
      "source": [
        "#1015 - Leia os quatro valores correspondentes aos eixos xey de dois pontos do plano, p1 (x1, y1) e p2 (x2, y2) e calcule a distância entre eles, mostrando quatro casas decimais após a vírgula\n",
        "x1, y1 = (input().split(\" \"))\n",
        "x2, y2 = (input().split(\" \"))\n",
        "x1 = float(x1)\n",
        "y1 = float(y1)\n",
        "x2 = float(x2)\n",
        "y2 = float(y2)\n",
        "resp1 = (x2 - x1)**2\n",
        "resp2 = (y2 - y1)**2\n",
        "resp3 = resp1 + resp2\n",
        "resp4 = resp3 ** (1/2)\n",
        "print('{:.4f}'.format(resp4))"
      ],
      "execution_count": null,
      "outputs": []
    },
    {
      "cell_type": "code",
      "metadata": {
        "id": "NuBxHJN4mOhZ"
      },
      "source": [
        "#1019 - Leia um valor inteiro, que é a duração em segundos de um determinado evento em uma fábrica, e informe-o expresso em horas: minutos: segundos.\n",
        "N = int(input(''))\n",
        "H = N // 3600\n",
        "M = (N%3600)//60\n",
        "S = (N%3600)%60\n",
        "print('{}:{}:{}'.format(H, M, S))"
      ],
      "execution_count": null,
      "outputs": []
    },
    {
      "cell_type": "code",
      "metadata": {
        "id": "WC7m_eBqm99E"
      },
      "source": [
        "#1036 - Bhaskara's Formula\n",
        "A, B, C = (input().split(\" \"))\n",
        "A = float(A)\n",
        "B = float(B)\n",
        "C = float(C)\n",
        "if A != 0:\n",
        "  d = B*B - 4*A*C\n",
        "  if d < 0:\n",
        "    print('Impossivel calcular')\n",
        "  else: \n",
        "    R1 = (-B + d**0.5)/(2*A)\n",
        "    print(\"R1 = %.5f\"%R1)\n",
        "    if d > 0:\n",
        "      R2 = (-B - d**0.5)/(2*A)\n",
        "      print(\"R2 = %.5f\"%R2)\n",
        "    else:\n",
        "      print('Impossivel calcular')\n",
        "else:\n",
        "  print('Impossivel calcular')"
      ],
      "execution_count": null,
      "outputs": []
    },
    {
      "cell_type": "code",
      "metadata": {
        "id": "GuuIxn-9nyOd"
      },
      "source": [
        "#1038 - Snack\n",
        "X, Y = input().split(' ')\n",
        "X = int(X)\n",
        "Y = int(Y)\n",
        "if X == 1:\n",
        "  print('Total: R$ {:.2f}'.format(Y*4.00))\n",
        "else:\n",
        "  if X == 2:\n",
        "    print('Total: R$ {:.2f}'.format(Y*4.50))\n",
        "  else:\n",
        "    if X == 3:\n",
        "      print('Total: R$ {:.2f}'.format(Y*5.00))\n",
        "    else:\n",
        "      if X == 4:\n",
        "        print('Total: R$ {:.2f}'.format(Y*2.00))\n",
        "      else:\n",
        "        print('Total: R$ {:.2f}'.format(Y*1.50))"
      ],
      "execution_count": null,
      "outputs": []
    },
    {
      "cell_type": "code",
      "metadata": {
        "id": "_iMNvt-npTq-"
      },
      "source": [
        "#1040 - Média 3\n",
        "n1, n2, n3, n4 = input().split(\" \")\n",
        "n1 = float(n1)\n",
        "n2 = float(n2)\n",
        "n3 = float(n3)\n",
        "n4 = float(n4)\n",
        "media = (n1*2 + n2*3 + n3*4 + n4*1)/10\n",
        "print(f\"Media: {media:.1f}\")\n",
        "if media >= 7.0:\n",
        "  print(\"Aluno aprovado.\")\n",
        "else:\n",
        "  if media < 5:\n",
        "    print(\"Aluno reprovado.\")\n",
        "  else:\n",
        "    print(\"Aluno em exame.\")\n",
        "    exame = float(input(\"\"))\n",
        "    media_final = (media+exame)/2\n",
        "    print(f\"Nota do exame: {exame:.1f}\")\n",
        "    if media_final >= 5:\n",
        "      print(\"Aluno aprovado.\")\n",
        "    else: \n",
        "      print(\"Aluno reprovado.\")\n",
        "    print(f\"Media final: {media_final:.1f}\")\n",
        "\n"
      ],
      "execution_count": null,
      "outputs": []
    },
    {
      "cell_type": "code",
      "metadata": {
        "id": "0Q_oUM4t2HQW"
      },
      "source": [
        "#1041 Coordenadas de um ponto\n",
        "x, y = input().split(\" \")\n",
        "x = float(x)\n",
        "y = float(y)\n",
        "#Resolver depois"
      ],
      "execution_count": null,
      "outputs": []
    },
    {
      "cell_type": "code",
      "metadata": {
        "id": "DnBvNuzz9QAk"
      },
      "source": [
        "#1042 Classificação Simples\n",
        "a, b, c = input().split(\" \")\n",
        "a = int(a)\n",
        "b = int(b)\n",
        "c = int(c)\n",
        "if a > b and a > c:\n",
        "    d = a\n",
        "    if b > c:\n",
        "        e = b\n",
        "        f = c\n",
        "    else:\n",
        "        e = c\n",
        "        f = b\n",
        "if b > a and b > c:\n",
        "    d = b\n",
        "    if a > c:\n",
        "        e = a\n",
        "        f = c\n",
        "    else:\n",
        "        e = c\n",
        "        f = a\n",
        "if c > a and c > b:\n",
        "    d = c\n",
        "    if a > b:\n",
        "        e = a\n",
        "        f = b\n",
        "    else:\n",
        "        f = a\n",
        "        e = b\n",
        "print(f)\n",
        "print(e)\n",
        "print(d)\n",
        "print()\n",
        "print(a)\n",
        "print(b)\n",
        "print(c)"
      ],
      "execution_count": null,
      "outputs": []
    },
    {
      "cell_type": "code",
      "metadata": {
        "colab": {
          "base_uri": "https://localhost:8080/"
        },
        "id": "e1mtRSSrI9Qc",
        "outputId": "c3986b00-86fd-45cf-f2f4-f88cc2ba84cd"
      },
      "source": [
        "a, b, c = input().split(\" \")\n",
        "a = float(a)\n",
        "b = float(b)\n",
        "c = float(c)\n",
        "if abs(b - c) < a < (b + c) and (a - c) < b < (a + c) and (a - b) < c < (a + b):\n",
        "  perimetro = a + b + c\n",
        "  print(f\"Perimetro = {perimetro:.1f}\")\n",
        "else:\n",
        "  area = ((a+b)*c)/2\n",
        "  print(f\"Area = {area:.1f}\")\n"
      ],
      "execution_count": 41,
      "outputs": [
        {
          "output_type": "stream",
          "text": [
            "6 4 2.1\n",
            "Perimetro = 12.1\n"
          ],
          "name": "stdout"
        }
      ]
    }
  ]
}