{
  "nbformat": 4,
  "nbformat_minor": 0,
  "metadata": {
    "colab": {
      "name": "ALP_Estrutura_de_repeticao.ipynb",
      "provenance": [],
      "authorship_tag": "ABX9TyNUuIcSrHW/90riHhUmEqLm",
      "include_colab_link": true
    },
    "kernelspec": {
      "name": "python3",
      "display_name": "Python 3"
    },
    "language_info": {
      "name": "python"
    }
  },
  "cells": [
    {
      "cell_type": "markdown",
      "metadata": {
        "id": "view-in-github",
        "colab_type": "text"
      },
      "source": [
        "<a href=\"https://colab.research.google.com/github/LaisST/Fatec_ALP/blob/main/ALP_Estrutura_de_repeticao.ipynb\" target=\"_parent\"><img src=\"https://colab.research.google.com/assets/colab-badge.svg\" alt=\"Open In Colab\"/></a>"
      ]
    },
    {
      "cell_type": "code",
      "metadata": {
        "id": "pH7KuaDEsKM7"
      },
      "source": [
        "#Exercicios aula 22/03/21"
      ],
      "execution_count": null,
      "outputs": []
    },
    {
      "cell_type": "code",
      "metadata": {
        "id": "KrrulDUKtQv0"
      },
      "source": [
        "#1) Mostrar na tela números inteiros de 1 a 10\n",
        "cont = 1\n",
        "while cont <= 10:\n",
        "  print(cont)\n",
        "  cont += 1"
      ],
      "execution_count": null,
      "outputs": []
    },
    {
      "cell_type": "code",
      "metadata": {
        "id": "45MlVT_EuZXS"
      },
      "source": [
        "#2) Mostrar na tela números inteiros de 10 a 1\n",
        "cont = 10\n",
        "while cont >=1:\n",
        "  print(cont)\n",
        "  cont -= 1"
      ],
      "execution_count": null,
      "outputs": []
    },
    {
      "cell_type": "code",
      "metadata": {
        "id": "qamvwmeXuwhD"
      },
      "source": [
        "#3) Ler um número inteiro (N) maior que 1 e mostrar os números inteiros de 1 até N.\n",
        "N = int(input(\"Digite um número inteiro maior que 1: \"))\n",
        "cont = 1\n",
        "while cont <= N:\n",
        "  print(cont)\n",
        "  cont += 1"
      ],
      "execution_count": null,
      "outputs": []
    },
    {
      "cell_type": "code",
      "metadata": {
        "id": "ViqT-H_NvxUD"
      },
      "source": [
        "#4) Ler um número inteiro (N) e, se N é maior que 1, mostrar os números inteiros de 1 até N. Senão, mostre os números de N até 1.\n",
        "N = int(input(\"Digite um número inteiro: \"))\n",
        "cont = 1\n",
        "if N > 1:\n",
        "  while cont <=N:\n",
        "    print(cont)\n",
        "    cont += 1\n",
        "else:\n",
        "  while N <=cont:\n",
        "    print(N)\n",
        "    N += 1"
      ],
      "execution_count": null,
      "outputs": []
    },
    {
      "cell_type": "code",
      "metadata": {
        "id": "22jziQuFz-py"
      },
      "source": [
        "#5) Mostre os números pares de 200 até 100.\n",
        "x = 200\n",
        "while x >= 100:\n",
        "  print(x)\n",
        "  x = x-2"
      ],
      "execution_count": null,
      "outputs": []
    },
    {
      "cell_type": "code",
      "metadata": {
        "id": "VCV6BSyB0uVX"
      },
      "source": [
        "#6) Mostre os números ímpares de 27 até 577\n",
        "x = 27\n",
        "while x <= 577:\n",
        "  print(x)\n",
        "  x += 2"
      ],
      "execution_count": null,
      "outputs": []
    },
    {
      "cell_type": "code",
      "metadata": {
        "id": "70L_WQNw1D4Q"
      },
      "source": [
        "#7) Ler um número inteiro (N) e , se N é maior que 1, mostrar os números inteiros pares de 1 até N. Senão, mostre os números inteiro ímpares de N até 1.\n",
        "N = int(input(\"Digite um número inteiro: \"))\n",
        "if N > 1:\n",
        "  cont = 2\n",
        "  while cont <=N:\n",
        "    print(cont)\n",
        "    cont = cont + 2\n",
        "else:\n",
        "  if N%2==1:\n",
        "    cont = N\n",
        "    while cont <=1:\n",
        "      print(cont)\n",
        "      cont += 2\n",
        "  else:\n",
        "    N = N + 1\n",
        "    cont = N\n",
        "    while cont <=1:\n",
        "      print(cont)\n",
        "      cont += 2\n"
      ],
      "execution_count": null,
      "outputs": []
    },
    {
      "cell_type": "code",
      "metadata": {
        "id": "vdhZ_6_bCE3d"
      },
      "source": [
        "#8) Ler um número inteiro de 1 a 10 e mostrar a sua tabuada.\n",
        "N = int(input(\"Você deseja saber a tabuada de qual número? \"))\n",
        "cont = 0\n",
        "while cont <=10:\n",
        "  print(f\"{N} x {cont} = {N*cont}\")\n",
        "  cont = cont + 1\n"
      ],
      "execution_count": null,
      "outputs": []
    },
    {
      "cell_type": "code",
      "metadata": {
        "id": "x5Ztjb5DnzEl"
      },
      "source": [
        "#29/03/21 - Estrutura de repeticao controlada por uma sentinela\n",
        "#exemplo1\n",
        "c = 1\n",
        "while c <= 10:\n",
        "  print(c)\n",
        "  if c % 5 == 0:\n",
        "    print(\"Múltiplo de 5\")\n",
        "  elif c % 4 == 0:\n",
        "    print(\"Múltiplo de 4\")\n",
        "  elif c % 3 == 0:\n",
        "    print(\"Múltiplo de 3\")\n",
        "  else:\n",
        "    print(\"Não é Múltiplo de 5, 4 e 3\")\n",
        "  c = c + 1"
      ],
      "execution_count": null,
      "outputs": []
    },
    {
      "cell_type": "code",
      "metadata": {
        "id": "UFpSZoiFwWfG"
      },
      "source": [
        "#exemplo2\n",
        "x = int (input(\"Digite um número positivo \"))\n",
        "while x <= 0:\n",
        "  x = int (input(\"ERRO! Digite um número positivo \"))"
      ],
      "execution_count": null,
      "outputs": []
    },
    {
      "cell_type": "code",
      "metadata": {
        "id": "HtYkR73rwuUh"
      },
      "source": [
        "#exemplo3\n",
        "i = 9\n",
        "while i != 0: \n",
        "  i = int(input(\"Valor ?\"))\n",
        "  print (i)"
      ],
      "execution_count": null,
      "outputs": []
    },
    {
      "cell_type": "code",
      "metadata": {
        "id": "epD9G-Vx1itE"
      },
      "source": [
        "#exemplo4\n",
        "conta = 1\n",
        "soma = 0\n",
        "while conta <= 10:\n",
        "  num = int(input(\"Numero? \"))\n",
        "  soma += num\n",
        "  conta += 1\n",
        "print(\"Somatória %d\" % soma)"
      ],
      "execution_count": null,
      "outputs": []
    },
    {
      "cell_type": "code",
      "metadata": {
        "id": "IhaZ51Fy3-XP"
      },
      "source": [
        "#exemplo5\n",
        "conta = 1\n",
        "soma = 0\n",
        "while conta <= 10:\n",
        "  num = int(input(\"Numero? \"))\n",
        "  soma += num\n",
        "  conta += 1\n",
        "print(\"Somatória %d\" % soma)\n",
        "print(\"Média %f\" % (soma/(conta-1)))"
      ],
      "execution_count": null,
      "outputs": []
    },
    {
      "cell_type": "code",
      "metadata": {
        "id": "pRoznBYw_TSF"
      },
      "source": [
        "#Exercicios:\n",
        "#9) Ler vários números enquanto o usuário não digitar um número negativo. Calcule e mostre a somatória dos números positivos.\n",
        "num = 0\n",
        "soma = 0\n",
        "while num >= 0:\n",
        "  num = int(input(\"Digite um número: \"))\n",
        "  if num > 0:\n",
        "    soma = soma + num\n",
        "print(f\"Somatória dos números positivos: {soma}\")"
      ],
      "execution_count": null,
      "outputs": []
    },
    {
      "cell_type": "code",
      "metadata": {
        "colab": {
          "base_uri": "https://localhost:8080/"
        },
        "id": "SbKZ5jb0BIDR",
        "outputId": "0df176c6-1820-47d2-8e4a-e30ca5b49be6"
      },
      "source": [
        "#10) Calcular e mostrar o resultado da expressão: 1/2 + 1/4 + 1/8 + 1/16 + 1/32 + ...... + 1 / 16384\n",
        "s = 0\n",
        "c = 2\n",
        "while c <= 16384:\n",
        "  s = s+1/c\n",
        "  c = c*2\n",
        "print(f\"Resultado da expressão: {s:.4f}\")"
      ],
      "execution_count": null,
      "outputs": [
        {
          "output_type": "stream",
          "text": [
            "Resultado da expressão: 0.9999\n"
          ],
          "name": "stdout"
        }
      ]
    },
    {
      "cell_type": "code",
      "metadata": {
        "colab": {
          "base_uri": "https://localhost:8080/"
        },
        "id": "aWRrQdkwD6DG",
        "outputId": "84996c33-8681-402c-a47a-204270fd0b05"
      },
      "source": [
        "#11) Calcular e mostrar o resultado da expressão: 1/1 + 1/2 + 1/3 + 1/4 + 1/5 + ...... + 1 /200\n",
        "s = 0\n",
        "c = 1\n",
        "while c <= 200:\n",
        "  s = s+1/c\n",
        "  c = c+1\n",
        "print(f\"Resultado da expressão: {s:.4f}\")"
      ],
      "execution_count": null,
      "outputs": [
        {
          "output_type": "stream",
          "text": [
            "Resultado da expressão: 5.8780\n"
          ],
          "name": "stdout"
        }
      ]
    },
    {
      "cell_type": "code",
      "metadata": {
        "colab": {
          "base_uri": "https://localhost:8080/"
        },
        "id": "MutXLFhPET2N",
        "outputId": "53d1841a-62ec-4089-ba86-a8a5df8660cc"
      },
      "source": [
        "#12) Calcular e mostrar o resultado da expressão: 1/1 + 1/2 + 1/3 + ...... + 1 / N para os 50 primeiros termos\n",
        "s = 0\n",
        "t = 1\n",
        "while t <=50:\n",
        "  s = s+1/t\n",
        "  t = t+1\n",
        "print(f\"O resultado da expressão é {s}\")"
      ],
      "execution_count": null,
      "outputs": [
        {
          "output_type": "stream",
          "text": [
            "O resultado da expressão é 4.499205338329423\n"
          ],
          "name": "stdout"
        }
      ]
    }
  ]
}