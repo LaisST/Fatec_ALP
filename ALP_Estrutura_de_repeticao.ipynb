{
  "nbformat": 4,
  "nbformat_minor": 0,
  "metadata": {
    "colab": {
      "name": "ALP_Estrutura_de_repeticao.ipynb",
      "provenance": [],
      "authorship_tag": "ABX9TyNrkjV+vINQMylwl/8EBYNU",
      "include_colab_link": true
    },
    "kernelspec": {
      "name": "python3",
      "display_name": "Python 3"
    },
    "language_info": {
      "name": "python"
    }
  },
  "cells": [
    {
      "cell_type": "markdown",
      "metadata": {
        "id": "view-in-github",
        "colab_type": "text"
      },
      "source": [
        "<a href=\"https://colab.research.google.com/github/LaisST/Fatec_ALP/blob/main/ALP_Estrutura_de_repeticao.ipynb\" target=\"_parent\"><img src=\"https://colab.research.google.com/assets/colab-badge.svg\" alt=\"Open In Colab\"/></a>"
      ]
    },
    {
      "cell_type": "code",
      "metadata": {
        "id": "pH7KuaDEsKM7"
      },
      "source": [
        "#Exercicios aula 22/03/21"
      ],
      "execution_count": 7,
      "outputs": []
    },
    {
      "cell_type": "code",
      "metadata": {
        "id": "KrrulDUKtQv0"
      },
      "source": [
        "#1) Mostrar na tela números inteiros de 1 a 10\n",
        "cont = 1\n",
        "while cont <= 10:\n",
        "  print(cont)\n",
        "  cont += 1"
      ],
      "execution_count": null,
      "outputs": []
    },
    {
      "cell_type": "code",
      "metadata": {
        "id": "45MlVT_EuZXS"
      },
      "source": [
        "#2) Mostrar na tela números inteiros de 10 a 1\n",
        "cont = 10\n",
        "while cont >=1:\n",
        "  print(cont)\n",
        "  cont -= 1"
      ],
      "execution_count": null,
      "outputs": []
    },
    {
      "cell_type": "code",
      "metadata": {
        "id": "qamvwmeXuwhD"
      },
      "source": [
        "#3) Ler um número inteiro (N) maior que 1 e mostrar os números inteiros de 1 até N.\n",
        "N = int(input(\"Digite um número inteiro maior que 1: \"))\n",
        "cont = 1\n",
        "while cont <= N:\n",
        "  print(cont)\n",
        "  cont += 1"
      ],
      "execution_count": null,
      "outputs": []
    },
    {
      "cell_type": "code",
      "metadata": {
        "id": "ViqT-H_NvxUD"
      },
      "source": [
        "#4) Ler um número inteiro (N) e, se N é maior que 1, mostrar os números inteiros de 1 até N. Senão, mostre os números de N até 1.\n",
        "N = int(input(\"Digite um número inteiro: \"))\n",
        "if N > 1:\n",
        "  cont = 1\n",
        "  while cont <=N:\n",
        "    print(cont)\n",
        "    cont += 1\n",
        "else:\n",
        "  cont = N\n",
        "  while cont <=1:\n",
        "    print(cont)\n",
        "    cont += 1"
      ],
      "execution_count": null,
      "outputs": []
    },
    {
      "cell_type": "code",
      "metadata": {
        "id": "22jziQuFz-py"
      },
      "source": [
        "#5) Mostre os números pares de 200 até 100.\n",
        "x = 200\n",
        "while x >= 100:\n",
        "  print(x)\n",
        "  x = x-2"
      ],
      "execution_count": null,
      "outputs": []
    },
    {
      "cell_type": "code",
      "metadata": {
        "id": "VCV6BSyB0uVX"
      },
      "source": [
        "#6) Mostre os números ímpares de 27 até 577\n",
        "x = 27\n",
        "while x <= 577:\n",
        "  print(x)\n",
        "  x += 2"
      ],
      "execution_count": null,
      "outputs": []
    },
    {
      "cell_type": "code",
      "metadata": {
        "id": "70L_WQNw1D4Q"
      },
      "source": [
        "#7) Ler um número inteiro (N) e , se N é maior que 1, mostrar os números inteiros pares de 1 até N. Senão, mostre os números inteiro ímpares de N até 1.\n",
        "N = int(input(\"Digite um número inteiro: \"))\n",
        "if N > 1:\n",
        "  cont = 2\n",
        "  while cont <=N:\n",
        "    print(cont)\n",
        "    cont = cont + 2\n",
        "else:\n",
        "  if N%2==1:\n",
        "    cont = N\n",
        "    while cont <=1:\n",
        "      print(cont)\n",
        "      cont += 2\n",
        "  else:\n",
        "    N = N + 1\n",
        "    cont = N\n",
        "    while cont <=1:\n",
        "      print(cont)\n",
        "      cont += 2\n"
      ],
      "execution_count": null,
      "outputs": []
    },
    {
      "cell_type": "code",
      "metadata": {
        "id": "vdhZ_6_bCE3d"
      },
      "source": [
        "#8) Ler um número inteiro de 1 a 10 e mostrar a sua tabuada.\n",
        "N = int(input(\"Você deseja saber a tabuada de qual número? \"))\n",
        "cont = 0\n",
        "while cont <=10:\n",
        "  print(f\"{N} x {cont} = {N*cont}\")\n",
        "  cont = cont + 1\n"
      ],
      "execution_count": null,
      "outputs": []
    }
  ]
}