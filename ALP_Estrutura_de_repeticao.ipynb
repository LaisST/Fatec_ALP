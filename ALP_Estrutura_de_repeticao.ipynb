{
  "nbformat": 4,
  "nbformat_minor": 0,
  "metadata": {
    "colab": {
      "name": "ALP_Estrutura_de_repeticao.ipynb",
      "provenance": [],
      "authorship_tag": "ABX9TyPik3aKUYQDMFalxt5zkD0q",
      "include_colab_link": true
    },
    "kernelspec": {
      "name": "python3",
      "display_name": "Python 3"
    },
    "language_info": {
      "name": "python"
    }
  },
  "cells": [
    {
      "cell_type": "markdown",
      "metadata": {
        "id": "view-in-github",
        "colab_type": "text"
      },
      "source": [
        "<a href=\"https://colab.research.google.com/github/LaisST/Fatec_ALP/blob/main/ALP_Estrutura_de_repeticao.ipynb\" target=\"_parent\"><img src=\"https://colab.research.google.com/assets/colab-badge.svg\" alt=\"Open In Colab\"/></a>"
      ]
    },
    {
      "cell_type": "code",
      "metadata": {
        "id": "pH7KuaDEsKM7"
      },
      "source": [
        "#Exercicios aula 22/03/21"
      ],
      "execution_count": null,
      "outputs": []
    },
    {
      "cell_type": "code",
      "metadata": {
        "id": "KrrulDUKtQv0"
      },
      "source": [
        "#1) Mostrar na tela números inteiros de 1 a 10\n",
        "cont = 1\n",
        "while cont <= 10:\n",
        "  print(cont)\n",
        "  cont += 1"
      ],
      "execution_count": null,
      "outputs": []
    },
    {
      "cell_type": "code",
      "metadata": {
        "id": "45MlVT_EuZXS"
      },
      "source": [
        "#2) Mostrar na tela números inteiros de 10 a 1\n",
        "cont = 10\n",
        "while cont >=1:\n",
        "  print(cont)\n",
        "  cont -= 1"
      ],
      "execution_count": null,
      "outputs": []
    },
    {
      "cell_type": "code",
      "metadata": {
        "id": "qamvwmeXuwhD"
      },
      "source": [
        "#3) Ler um número inteiro (N) maior que 1 e mostrar os números inteiros de 1 até N.\n",
        "N = int(input(\"Digite um número inteiro maior que 1: \"))\n",
        "cont = 1\n",
        "while cont <= N:\n",
        "  print(cont)\n",
        "  cont += 1"
      ],
      "execution_count": null,
      "outputs": []
    },
    {
      "cell_type": "code",
      "metadata": {
        "id": "ViqT-H_NvxUD"
      },
      "source": [
        "#4) Ler um número inteiro (N) e, se N é maior que 1, mostrar os números inteiros de 1 até N. Senão, mostre os números de N até 1.\n",
        "N = int(input(\"Digite um número inteiro: \"))\n",
        "cont = 1\n",
        "if N > 1:\n",
        "  while cont <=N:\n",
        "    print(cont)\n",
        "    cont += 1\n",
        "else:\n",
        "  while N <=cont:\n",
        "    print(N)\n",
        "    N += 1"
      ],
      "execution_count": null,
      "outputs": []
    },
    {
      "cell_type": "code",
      "metadata": {
        "id": "22jziQuFz-py"
      },
      "source": [
        "#5) Mostre os números pares de 200 até 100.\n",
        "x = 200\n",
        "while x >= 100:\n",
        "  print(x)\n",
        "  x = x-2"
      ],
      "execution_count": null,
      "outputs": []
    },
    {
      "cell_type": "code",
      "metadata": {
        "id": "VCV6BSyB0uVX"
      },
      "source": [
        "#6) Mostre os números ímpares de 27 até 577\n",
        "x = 27\n",
        "while x <= 577:\n",
        "  print(x)\n",
        "  x += 2"
      ],
      "execution_count": null,
      "outputs": []
    },
    {
      "cell_type": "code",
      "metadata": {
        "id": "70L_WQNw1D4Q"
      },
      "source": [
        "#7) Ler um número inteiro (N) e , se N é maior que 1, mostrar os números inteiros pares de 1 até N. Senão, mostre os números inteiro ímpares de N até 1.\n",
        "N = int(input(\"Digite um número inteiro: \"))\n",
        "if N > 1:\n",
        "  cont = 2\n",
        "  while cont <=N:\n",
        "    print(cont)\n",
        "    cont = cont + 2\n",
        "else:\n",
        "  if N%2==1:\n",
        "    cont = N\n",
        "    while cont <=1:\n",
        "      print(cont)\n",
        "      cont += 2\n",
        "  else:\n",
        "    N = N + 1\n",
        "    cont = N\n",
        "    while cont <=1:\n",
        "      print(cont)\n",
        "      cont += 2\n"
      ],
      "execution_count": null,
      "outputs": []
    },
    {
      "cell_type": "code",
      "metadata": {
        "id": "vdhZ_6_bCE3d"
      },
      "source": [
        "#8) Ler um número inteiro de 1 a 10 e mostrar a sua tabuada.\n",
        "N = int(input(\"Você deseja saber a tabuada de qual número? \"))\n",
        "cont = 0\n",
        "while cont <=10:\n",
        "  print(f\"{N} x {cont} = {N*cont}\")\n",
        "  cont = cont + 1\n"
      ],
      "execution_count": null,
      "outputs": []
    },
    {
      "cell_type": "code",
      "metadata": {
        "id": "x5Ztjb5DnzEl"
      },
      "source": [
        "#29/03/21 - Estrutura de repeticao controlada por uma sentinela\n",
        "#exemplo1\n",
        "c = 1\n",
        "while c <= 10:\n",
        "  print(c)\n",
        "  if c % 5 == 0:\n",
        "    print(\"Múltiplo de 5\")\n",
        "  elif c % 4 == 0:\n",
        "    print(\"Múltiplo de 4\")\n",
        "  elif c % 3 == 0:\n",
        "    print(\"Múltiplo de 3\")\n",
        "  else:\n",
        "    print(\"Não é Múltiplo de 5, 4 e 3\")\n",
        "  c = c + 1"
      ],
      "execution_count": null,
      "outputs": []
    },
    {
      "cell_type": "code",
      "metadata": {
        "id": "UFpSZoiFwWfG"
      },
      "source": [
        "#exemplo2\n",
        "x = int (input(\"Digite um número positivo \"))\n",
        "while x <= 0:\n",
        "  x = int (input(\"ERRO! Digite um número positivo \"))"
      ],
      "execution_count": null,
      "outputs": []
    },
    {
      "cell_type": "code",
      "metadata": {
        "id": "HtYkR73rwuUh"
      },
      "source": [
        "#exemplo3\n",
        "i = 9\n",
        "while i != 0: \n",
        "  i = int(input(\"Valor ?\"))\n",
        "  print (i)"
      ],
      "execution_count": null,
      "outputs": []
    },
    {
      "cell_type": "code",
      "metadata": {
        "id": "epD9G-Vx1itE"
      },
      "source": [
        "#exemplo4\n",
        "conta = 1\n",
        "soma = 0\n",
        "while conta <= 10:\n",
        "  num = int(input(\"Numero? \"))\n",
        "  soma += num\n",
        "  conta += 1\n",
        "print(\"Somatória %d\" % soma)"
      ],
      "execution_count": null,
      "outputs": []
    },
    {
      "cell_type": "code",
      "metadata": {
        "id": "IhaZ51Fy3-XP"
      },
      "source": [
        "#exemplo5\n",
        "conta = 1\n",
        "soma = 0\n",
        "while conta <= 10:\n",
        "  num = int(input(\"Numero? \"))\n",
        "  soma += num\n",
        "  conta += 1\n",
        "print(\"Somatória %d\" % soma)\n",
        "print(\"Média %f\" % (soma/(conta-1)))"
      ],
      "execution_count": null,
      "outputs": []
    },
    {
      "cell_type": "code",
      "metadata": {
        "id": "pRoznBYw_TSF"
      },
      "source": [
        "#Exercicios:\n",
        "#9) Ler vários números enquanto o usuário não digitar um número negativo. Calcule e mostre a somatória dos números positivos.\n",
        "num = 0\n",
        "soma = 0\n",
        "while num >= 0:\n",
        "  num = int(input(\"Digite um número: \"))\n",
        "  if num > 0:\n",
        "    soma = soma + num\n",
        "print(f\"Somatória dos números positivos: {soma}\")"
      ],
      "execution_count": null,
      "outputs": []
    },
    {
      "cell_type": "code",
      "metadata": {
        "colab": {
          "base_uri": "https://localhost:8080/"
        },
        "id": "SbKZ5jb0BIDR",
        "outputId": "0df176c6-1820-47d2-8e4a-e30ca5b49be6"
      },
      "source": [
        "#10) Calcular e mostrar o resultado da expressão: 1/2 + 1/4 + 1/8 + 1/16 + 1/32 + ...... + 1 / 16384\n",
        "s = 0\n",
        "c = 2\n",
        "while c <= 16384:\n",
        "  s = s+1/c\n",
        "  c = c*2\n",
        "print(f\"Resultado da expressão: {s:.4f}\")"
      ],
      "execution_count": null,
      "outputs": [
        {
          "output_type": "stream",
          "text": [
            "Resultado da expressão: 0.9999\n"
          ],
          "name": "stdout"
        }
      ]
    },
    {
      "cell_type": "code",
      "metadata": {
        "colab": {
          "base_uri": "https://localhost:8080/"
        },
        "id": "aWRrQdkwD6DG",
        "outputId": "84996c33-8681-402c-a47a-204270fd0b05"
      },
      "source": [
        "#11) Calcular e mostrar o resultado da expressão: 1/1 + 1/2 + 1/3 + 1/4 + 1/5 + ...... + 1 /200\n",
        "s = 0\n",
        "c = 1\n",
        "while c <= 200:\n",
        "  s = s+1/c\n",
        "  c = c+1\n",
        "print(f\"Resultado da expressão: {s:.4f}\")"
      ],
      "execution_count": null,
      "outputs": [
        {
          "output_type": "stream",
          "text": [
            "Resultado da expressão: 5.8780\n"
          ],
          "name": "stdout"
        }
      ]
    },
    {
      "cell_type": "code",
      "metadata": {
        "colab": {
          "base_uri": "https://localhost:8080/"
        },
        "id": "MutXLFhPET2N",
        "outputId": "53d1841a-62ec-4089-ba86-a8a5df8660cc"
      },
      "source": [
        "#12) Calcular e mostrar o resultado da expressão: 1/1 + 1/2 + 1/3 + ...... + 1 / N para os 50 primeiros termos\n",
        "s = 0\n",
        "t = 1\n",
        "while t <=50:\n",
        "  s = s+1/t\n",
        "  t = t+1\n",
        "print(f\"O resultado da expressão é {s}\")"
      ],
      "execution_count": null,
      "outputs": [
        {
          "output_type": "stream",
          "text": [
            "O resultado da expressão é 4.499205338329423\n"
          ],
          "name": "stdout"
        }
      ]
    },
    {
      "cell_type": "code",
      "metadata": {
        "id": "JSRipTzKo3KK"
      },
      "source": [
        "#13) Calcular e mostrar o resultado do fatorial de um número escolhido pelo usuário.\n"
      ],
      "execution_count": null,
      "outputs": []
    },
    {
      "cell_type": "code",
      "metadata": {
        "id": "X0kpgPv5rF1R"
      },
      "source": [
        "#14) Mostra o N-ésimo termo da Sequencia de Fibonacci."
      ],
      "execution_count": null,
      "outputs": []
    },
    {
      "cell_type": "code",
      "metadata": {
        "id": "x6Sep9L3rLhw"
      },
      "source": [
        "#15) Para receber a idade de várias pessoas e informe se possui direito a desconto. Regra para obter o desconto é necessário ter menos de 6 anos ou ser idoso \n",
        "#(ter a partir de 60 anos). Para finalizar a leitura, digite 9999.\n"
      ],
      "execution_count": null,
      "outputs": []
    },
    {
      "cell_type": "code",
      "metadata": {
        "id": "rjcacsz-rcIa"
      },
      "source": [
        "\"\"\"16) Para exibir o menu a seguir e realizar as suas operações:\n",
        "1 – Somar dois números\n",
        "2 – Subtrair dois números\n",
        "3 – Multiplicar dois números\n",
        "4 - Sair\"\"\""
      ],
      "execution_count": null,
      "outputs": []
    },
    {
      "cell_type": "code",
      "metadata": {
        "id": "v1P5WPvZri_7"
      },
      "source": [
        "\"\"\"17) Para exibir o menu a seguir e realizar as suas operações:\n",
        "1 – Ler um novo número e o adicionar em uma somatória\n",
        "2 – Exibir o valor atual da somatória\n",
        "3 – Exibir a quantidade de números digitados até o momento\n",
        "4 – Mostrar a média dos números digitados até o momento\n",
        "5 - Sair\"\"\"\n"
      ],
      "execution_count": null,
      "outputs": []
    },
    {
      "cell_type": "code",
      "metadata": {
        "colab": {
          "base_uri": "https://localhost:8080/"
        },
        "id": "taGMDedvXPSq",
        "outputId": "8ecd0bff-921f-48bd-ba13-0dc2ce2db03d"
      },
      "source": [
        "#Teams\n",
        "\"\"\"4)Implemente em Python um programa que sorteie 10 números reais. Apresente então o maior valor lido e a posição dentre os 10 valores lidos. \n",
        "Copie e cole o link do programa no GDB Online com a sua solução na linha a seguir para a professora executar e verificar o código-fonte\"\"\"\n",
        "import random\n",
        "c = 1\n",
        "lista = []\n",
        "while c <=10:\n",
        "  lista.append(random.uniform(-10,10))\n",
        "  c += 1\n",
        "maximo = max(lista)\n",
        "indice = lista.index(maximo)\n",
        "for n, aleatorio in enumerate(lista):\n",
        "    print(\"{}ª posição: {:.2f}\".format((n+1), aleatorio))\n",
        "print(\"O maior valor é: {:.2f}\\nQue está esta na {}ª posição da lista\".format(maximo, (indice+1)))\n",
        "#https://www.onlinegdb.com/edit/r1WEC-KSd\n"
      ],
      "execution_count": 49,
      "outputs": [
        {
          "output_type": "stream",
          "text": [
            "1ª posição: 1.74\n",
            "2ª posição: 9.87\n",
            "3ª posição: -8.31\n",
            "4ª posição: -6.93\n",
            "5ª posição: -7.66\n",
            "6ª posição: -2.76\n",
            "7ª posição: -1.50\n",
            "8ª posição: -9.68\n",
            "9ª posição: -1.42\n",
            "10ª posição: 6.95\n",
            "O maior valor é: 9.87\n",
            "Que está esta na 2ª posição da lista\n"
          ],
          "name": "stdout"
        }
      ]
    }
  ]
}