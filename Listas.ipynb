{
  "nbformat": 4,
  "nbformat_minor": 0,
  "metadata": {
    "colab": {
      "name": "Listas.ipynb",
      "provenance": [],
      "collapsed_sections": [],
      "authorship_tag": "ABX9TyOeG1kjh25tVfczseXp9tzG",
      "include_colab_link": true
    },
    "kernelspec": {
      "name": "python3",
      "display_name": "Python 3"
    },
    "language_info": {
      "name": "python"
    }
  },
  "cells": [
    {
      "cell_type": "markdown",
      "metadata": {
        "id": "view-in-github",
        "colab_type": "text"
      },
      "source": [
        "<a href=\"https://colab.research.google.com/github/LaisST/Fatec_ALP/blob/main/Listas.ipynb\" target=\"_parent\"><img src=\"https://colab.research.google.com/assets/colab-badge.svg\" alt=\"Open In Colab\"/></a>"
      ]
    },
    {
      "cell_type": "code",
      "metadata": {
        "id": "lO1X-tRfXY-6"
      },
      "source": [
        "#26/04/2021\n",
        "#Ler e guardar em uma lista 10 números reais digitados pelo usuário. Em seguida, percorrer a lista para calcular e exibir a média dos números a partir de 60.\n",
        "\n",
        "lista_reais = []\n",
        "c = 1\n",
        "soma = 0\n",
        "quant = 0\n",
        "while c <=10:\n",
        "  n = float(input(\"Digite um número real: \"))\n",
        "  lista_reais.append(n)\n",
        "  c += 1 \n",
        "  if n >= 60:\n",
        "    soma = soma + n\n",
        "    quant += 1\n",
        "print(\"{:.2f}\".format(soma/quant))"
      ],
      "execution_count": null,
      "outputs": []
    },
    {
      "cell_type": "code",
      "metadata": {
        "id": "FFf9zQSza83N"
      },
      "source": [
        "lista1 = [0]*9\n",
        "i = 0\n",
        "\n",
        "while i < len(lista1):\n",
        "  lista1[i] = int(input(\"\"))\n",
        "  i = i + 1\n",
        "\n",
        "i = 0\n",
        "conta = 0\n",
        "while i < len(lista1):\n",
        "  if lista1[i] > 0:\n",
        "    conta += 1\n",
        "    print(conta)\n",
        "    print(i)\n",
        "  i += 1"
      ],
      "execution_count": null,
      "outputs": []
    },
    {
      "cell_type": "code",
      "metadata": {
        "id": "bpQpLk2ysGyg"
      },
      "source": [
        "#2) Ler e guardar em uma lista 10 números inteiros digitados pelo usuário. Em seguida, percorrer a lista para calcular e exibir a média dos números ímpares.\n",
        "lista_reais = []\n",
        "c = 1\n",
        "soma = 0\n",
        "quant = 0\n",
        "while c <=10:\n",
        "  n = float(input(\"Digite um número real: \"))\n",
        "  lista_reais.append(n)\n",
        "  c += 1 \n",
        "  if n % 2 != 0:\n",
        "    soma = soma + n\n",
        "    quant += 1\n",
        "print(\"{:.2f}\".format(soma/quant))"
      ],
      "execution_count": null,
      "outputs": []
    },
    {
      "cell_type": "code",
      "metadata": {
        "id": "uyB7S92Xsx13"
      },
      "source": [
        "#3) Guardar em uma lista 100 números reais gerados aleatoriamente. Em seguida, percorrer a lista para calcular e exibir a média. No final mostre os valores acima da média.\n",
        "import random\n",
        "cem = []\n",
        "c = 1\n",
        "soma = 0\n",
        "while c <= 100:\n",
        "  n = random.randint(1,100)\n",
        "  cem.append(n)\n",
        "  soma = soma + n\n",
        "  c += 1\n",
        "media = soma/len(cem)\n",
        "print(\"A média dos números sorteados é {:.2f}\".format(media))\n",
        "print(\"***Valores acima da média***\")\n",
        "for i in cem:\n",
        "  if i > media:\n",
        "    print(i)\n"
      ],
      "execution_count": null,
      "outputs": []
    },
    {
      "cell_type": "code",
      "metadata": {
        "colab": {
          "base_uri": "https://localhost:8080/"
        },
        "id": "5KnvAaL-yU3a",
        "outputId": "ed3d377d-b0c0-4c6f-881b-22c80253b85d"
      },
      "source": [
        "#4) Guardar em uma lista 100 números inteiros gerados aleatoriamente. Em seguida, percorrer a lista para contar e exibir a quantidade de números pares da lista.\n",
        "import random\n",
        "cem = []\n",
        "c = 1\n",
        "quant = 0\n",
        "while c <= 100:\n",
        "  n = random.randint(1,100)\n",
        "  cem.append(n)\n",
        "  c +=1\n",
        "for i in cem:\n",
        "  if i % 2 == 0:\n",
        "    quant += 1\n",
        "print(\"A lista contém {} números pares\".format(quant))\n",
        "\n"
      ],
      "execution_count": 32,
      "outputs": [
        {
          "output_type": "stream",
          "text": [
            "A lista contém 59 números pares\n"
          ],
          "name": "stdout"
        }
      ]
    },
    {
      "cell_type": "code",
      "metadata": {
        "colab": {
          "base_uri": "https://localhost:8080/"
        },
        "id": "LZ6lQ3300LVY",
        "outputId": "c17bec8d-4fb3-492d-dd67-e058e0d7d6c7"
      },
      "source": [
        "#5) Guardar em uma lista 100 números inteiros gerados aleatoriamente. Em seguida, percorrer a lista para contar e exibir a quantidade de números ímpares da lista.\n",
        "import random\n",
        "cem = []\n",
        "c = 1\n",
        "quant = 0\n",
        "while c <= 100:\n",
        "  n = random.randint(1,100)\n",
        "  cem.append(n)\n",
        "  c +=1\n",
        "for i in cem:\n",
        "  if i % 2 == 1:\n",
        "    quant += 1\n",
        "print(\"A lista contém {} números ímpares\".format(quant))"
      ],
      "execution_count": 35,
      "outputs": [
        {
          "output_type": "stream",
          "text": [
            "A lista contém 48 números ímpares\n"
          ],
          "name": "stdout"
        }
      ]
    },
    {
      "cell_type": "code",
      "metadata": {
        "id": "KaK5UyfD1izi"
      },
      "source": [
        "'''6) Gerar duas listas (listaA e listaB) de 100 posições cada uma com números inteiros gerados aleatoriamente. Em seguida, gere uma nova lista com a listaA e listaB concatenadas. Elabore as\n",
        "instruções que concatenem as listas, não use o símbolo +'''\n",
        "import random\n",
        "listaA = []\n",
        "listaB = []\n",
        "listaC = []\n",
        "c = 1\n",
        "while c <= 100:\n",
        "  x = random.randint(1,100)\n",
        "  listaA.append(x)\n",
        "  y = random.randint(1,100)\n",
        "  listaB.append(y)\n",
        "  c += 1\n",
        "for i in listaA:\n",
        "  listaC.append(i)\n",
        "for i in listaB:\n",
        "  listaC.append(i)\n",
        "print(listaA)\n",
        "print(listaB)\n",
        "print(listaC)\n"
      ],
      "execution_count": null,
      "outputs": []
    },
    {
      "cell_type": "code",
      "metadata": {
        "colab": {
          "base_uri": "https://localhost:8080/"
        },
        "id": "XjPuXcry7X3d",
        "outputId": "74761ceb-51ab-474c-d26e-43b6316abb6d"
      },
      "source": [
        "'''7) Gerar duas listas (listaA e listaB) de 100 posições cada uma com números inteiros gerados leatoriamente. Em seguida, gere uma nova lista com a listaA e listaB intercaladas'''\n",
        "import random\n",
        "listaA = []\n",
        "listaB = []\n",
        "listaC = []\n",
        "c = 1\n",
        "while c <= 100:\n",
        "  x = random.randint(1,100)\n",
        "  listaA.append(x)\n",
        "  y = random.randint(1,100)\n",
        "  listaB.append(y)\n",
        "  c += 1\n",
        "c = 0\n",
        "while c < 100:\n",
        "  listaC.append(listaA[c])\n",
        "  listaC.append(listaB[c])\n",
        "  c +=1 \n",
        "print(listaA)\n",
        "print(listaB)\n",
        "print(listaC)"
      ],
      "execution_count": 49,
      "outputs": [
        {
          "output_type": "stream",
          "text": [
            "[42, 56, 68, 69, 36, 79, 40, 50, 51, 85, 23, 61, 4, 6, 66, 83, 60, 66, 7, 26, 29, 90, 4, 88, 30, 36, 65, 81, 65, 3, 36, 28, 37, 44, 21, 89, 49, 36, 40, 84, 38, 13, 70, 65, 5, 16, 39, 44, 45, 36, 84, 38, 10, 36, 5, 42, 36, 63, 19, 15, 67, 7, 99, 33, 33, 15, 2, 52, 66, 20, 53, 52, 40, 42, 47, 24, 90, 57, 91, 97, 2, 46, 68, 12, 40, 96, 50, 79, 53, 86, 33, 91, 92, 10, 44, 21, 27, 51, 40, 11]\n",
            "[72, 63, 50, 88, 31, 32, 3, 11, 87, 8, 78, 46, 57, 17, 51, 90, 70, 48, 39, 15, 50, 70, 98, 85, 80, 85, 92, 2, 29, 64, 10, 35, 15, 48, 28, 74, 61, 28, 23, 50, 50, 74, 88, 59, 3, 74, 45, 34, 78, 53, 88, 99, 5, 43, 68, 83, 18, 10, 94, 69, 86, 78, 7, 32, 23, 1, 29, 42, 43, 11, 73, 75, 68, 40, 7, 26, 33, 40, 40, 21, 51, 45, 60, 37, 61, 91, 58, 2, 78, 71, 88, 43, 32, 1, 55, 83, 67, 86, 48, 10]\n",
            "[42, 72, 56, 63, 68, 50, 69, 88, 36, 31, 79, 32, 40, 3, 50, 11, 51, 87, 85, 8, 23, 78, 61, 46, 4, 57, 6, 17, 66, 51, 83, 90, 60, 70, 66, 48, 7, 39, 26, 15, 29, 50, 90, 70, 4, 98, 88, 85, 30, 80, 36, 85, 65, 92, 81, 2, 65, 29, 3, 64, 36, 10, 28, 35, 37, 15, 44, 48, 21, 28, 89, 74, 49, 61, 36, 28, 40, 23, 84, 50, 38, 50, 13, 74, 70, 88, 65, 59, 5, 3, 16, 74, 39, 45, 44, 34, 45, 78, 36, 53, 84, 88, 38, 99, 10, 5, 36, 43, 5, 68, 42, 83, 36, 18, 63, 10, 19, 94, 15, 69, 67, 86, 7, 78, 99, 7, 33, 32, 33, 23, 15, 1, 2, 29, 52, 42, 66, 43, 20, 11, 53, 73, 52, 75, 40, 68, 42, 40, 47, 7, 24, 26, 90, 33, 57, 40, 91, 40, 97, 21, 2, 51, 46, 45, 68, 60, 12, 37, 40, 61, 96, 91, 50, 58, 79, 2, 53, 78, 86, 71, 33, 88, 91, 43, 92, 32, 10, 1, 44, 55, 21, 83, 27, 67, 51, 86, 40, 48, 11, 10]\n"
          ],
          "name": "stdout"
        }
      ]
    },
    {
      "cell_type": "code",
      "metadata": {
        "colab": {
          "base_uri": "https://localhost:8080/"
        },
        "id": "5NOOebHgDFJk",
        "outputId": "6884ccb3-c4f8-4de2-e7b3-d34acbe3f04f"
      },
      "source": [
        "\"\"\"8) Gerar duas listas (listaA e listaB) de 100 posições cada uma com números inteiros gerados\n",
        "aleatoriamente. Em seguida, gere uma nova lista (listaC) com a soma dos elementos da listaA\n",
        "com lista a listaB (percorra cada índice das listas usando implementando uma estrutura de\n",
        "repetição):\"\"\"\n",
        "import random\n",
        "listaA = []\n",
        "listaB = []\n",
        "listaC = []\n",
        "c = 1\n",
        "while c <= 100:\n",
        "  x = random.randint(1,100)\n",
        "  listaA.append(x)\n",
        "  y = random.randint(1,100)\n",
        "  listaB.append(y)\n",
        "  c += 1\n",
        "c = 0\n",
        "for i in range(0,100):\n",
        "  x = listaA[c]\n",
        "  y = listaB[c]\n",
        "  c += 1\n",
        "  n = x+y\n",
        "  listaC.append(n)\n",
        "print(listaA)\n",
        "print(listaB)\n",
        "print(listaC)\n",
        "\n",
        "\n"
      ],
      "execution_count": 60,
      "outputs": [
        {
          "output_type": "stream",
          "text": [
            "[87, 100, 47, 21, 11, 94, 57, 42, 97, 82, 74, 77, 72, 22, 26, 23, 88, 66, 27, 81, 57, 9, 69, 54, 9, 5, 4, 63, 2, 67, 6, 40, 21, 77, 3, 100, 99, 67, 22, 20, 17, 49, 19, 29, 89, 97, 42, 11, 8, 93, 87, 87, 14, 70, 86, 33, 41, 13, 89, 91, 13, 51, 74, 35, 97, 52, 93, 5, 65, 66, 79, 36, 54, 80, 1, 98, 28, 90, 75, 93, 93, 75, 60, 44, 61, 55, 45, 4, 64, 13, 82, 16, 99, 82, 57, 58, 97, 65, 84, 59]\n",
            "[9, 24, 26, 50, 79, 74, 93, 69, 100, 96, 73, 60, 98, 61, 22, 86, 85, 75, 76, 10, 57, 5, 100, 11, 60, 60, 37, 37, 91, 96, 64, 99, 2, 37, 60, 88, 28, 50, 91, 90, 29, 12, 48, 47, 14, 81, 10, 48, 76, 15, 80, 89, 52, 27, 12, 84, 62, 38, 8, 76, 37, 24, 35, 33, 19, 94, 28, 19, 71, 75, 19, 56, 78, 15, 71, 78, 2, 96, 59, 11, 31, 91, 41, 48, 46, 31, 43, 41, 100, 49, 81, 65, 64, 37, 23, 79, 20, 68, 37, 78]\n",
            "[96, 124, 73, 71, 90, 168, 150, 111, 197, 178, 147, 137, 170, 83, 48, 109, 173, 141, 103, 91, 114, 14, 169, 65, 69, 65, 41, 100, 93, 163, 70, 139, 23, 114, 63, 188, 127, 117, 113, 110, 46, 61, 67, 76, 103, 178, 52, 59, 84, 108, 167, 176, 66, 97, 98, 117, 103, 51, 97, 167, 50, 75, 109, 68, 116, 146, 121, 24, 136, 141, 98, 92, 132, 95, 72, 176, 30, 186, 134, 104, 124, 166, 101, 92, 107, 86, 88, 45, 164, 62, 163, 81, 163, 119, 80, 137, 117, 133, 121, 137]\n"
          ],
          "name": "stdout"
        }
      ]
    },
    {
      "cell_type": "code",
      "metadata": {
        "id": "VANOaiSsHzXM"
      },
      "source": [
        "\"\"\"9) Gerar uma lista de 100 posições (listaA) com números inteiros gerados aleatoriamente. Em seguida,\n",
        "gere uma nova lista com a metade dos elementos da listaA cujos os elementos são as somas (percorra\n",
        "os índices implementando a estrutura de repetição adequada):\"\"\"\n",
        "import random\n",
        "listaA = []\n",
        "listaB = []\n",
        "y = 0\n",
        "z = 99\n",
        "c = 1\n",
        "while c <=100:\n",
        "  n = random.randint(1,100)\n",
        "  listaA.append(n)\n",
        "  c += 1\n",
        "for i in range(0,50):\n",
        "  n = listaA[y] + listaA[z]\n",
        "  #print(\"{} + {} = {}\".format(listaA[y], listaA[z], n))\n",
        "  listaB.append(n)\n",
        "  y += 1\n",
        "  z -= 1\n"
      ],
      "execution_count": null,
      "outputs": []
    },
    {
      "cell_type": "code",
      "metadata": {
        "id": "3f4lmYWKpxtT"
      },
      "source": [
        ""
      ],
      "execution_count": null,
      "outputs": []
    }
  ]
}